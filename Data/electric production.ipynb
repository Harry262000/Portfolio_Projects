{
 "cells": [
  {
   "cell_type": "code",
   "execution_count": 2,
   "metadata": {},
   "outputs": [
    {
     "ename": "ModuleNotFoundError",
     "evalue": "No module named 'sklearn'",
     "output_type": "error",
     "traceback": [
      "\u001b[1;31m---------------------------------------------------------------------------\u001b[0m",
      "\u001b[1;31mModuleNotFoundError\u001b[0m                       Traceback (most recent call last)",
      "Cell \u001b[1;32mIn[2], line 5\u001b[0m\n\u001b[0;32m      3\u001b[0m \u001b[38;5;28;01mimport\u001b[39;00m \u001b[38;5;21;01mnumpy\u001b[39;00m \u001b[38;5;28;01mas\u001b[39;00m \u001b[38;5;21;01mnp\u001b[39;00m\n\u001b[0;32m      4\u001b[0m \u001b[38;5;28;01mimport\u001b[39;00m \u001b[38;5;21;01mmatplotlib\u001b[39;00m\u001b[38;5;21;01m.\u001b[39;00m\u001b[38;5;21;01mpyplot\u001b[39;00m \u001b[38;5;28;01mas\u001b[39;00m \u001b[38;5;21;01mplt\u001b[39;00m\n\u001b[1;32m----> 5\u001b[0m \u001b[38;5;28;01mfrom\u001b[39;00m \u001b[38;5;21;01msklearn\u001b[39;00m\u001b[38;5;21;01m.\u001b[39;00m\u001b[38;5;21;01mmetrics\u001b[39;00m \u001b[38;5;28;01mimport\u001b[39;00m mean_squared_error\n\u001b[0;32m      6\u001b[0m \u001b[38;5;28;01mfrom\u001b[39;00m \u001b[38;5;21;01mdatetime\u001b[39;00m \u001b[38;5;28;01mimport\u001b[39;00m datetime\n\u001b[0;32m      7\u001b[0m \u001b[38;5;28;01mfrom\u001b[39;00m \u001b[38;5;21;01mpandas\u001b[39;00m \u001b[38;5;28;01mimport\u001b[39;00m Series\n",
      "\u001b[1;31mModuleNotFoundError\u001b[0m: No module named 'sklearn'"
     ]
    }
   ],
   "source": [
    "%matplotlib inline\n",
    "import pandas as pd\n",
    "import numpy as np\n",
    "import matplotlib.pyplot as plt\n",
    "from sklearn.metrics import mean_squared_error\n",
    "from datetime import datetime\n",
    "from pandas import Series\n",
    "df=pd.read_csv(\"C:/Users/harshal/Downloads/Electric_Production.csv\")\n",
    "df1=df.copy()\n",
    "df.head()"
   ]
  },
  {
   "cell_type": "code",
   "execution_count": null,
   "metadata": {},
   "outputs": [],
   "source": [
    "df[\"DATE\"]=pd.to_datetime(df[\"DATE\"])\n",
    "df = df.set_index(df[\"DATE\"])\n",
    "\n",
    "#df.head()\n",
    "\n",
    "df.tail()"
   ]
  },
  {
   "cell_type": "code",
   "execution_count": null,
   "metadata": {},
   "outputs": [],
   "source": [
    "df[\"Days\"]=df.DATE.dt.day\n",
    "df[\"Month\"]=df.DATE.dt.month\n",
    "df[\"Year\"]=df.DATE.dt.year\n",
    "df[\"Day of week\"]=df.DATE.dt.dayofweek\n",
    "df[\"Week\"]=df.DATE.dt.week\n",
    "df.head()\n",
    "def weekend_applyer(row):\n",
    "    if row.dayofweek==5 or row.dayofweek==6:\n",
    "        return 1\n",
    "    else:\n",
    "        return 0\n",
    "temp2=df[\"DATE\"].apply(weekend_applyer)\n",
    "df[\"Weekend\"]=temp2\n",
    "df.head()"
   ]
  },
  {
   "cell_type": "code",
   "execution_count": null,
   "metadata": {},
   "outputs": [],
   "source": [
    "#date vs electric production in general\n",
    "df.index=df.DATE\n",
    "plt.figure(figsize=(15,5))\n",
    "plt.plot(df.index, df.IPG2211A2N)\n",
    "plt.xlabel(\"Year\")\n",
    "plt.ylabel(\"Electric Production\")\n",
    "plt.title(\"Electric Production and Year\")\n",
    "print(df.index)"
   ]
  },
  {
   "cell_type": "code",
   "execution_count": null,
   "metadata": {
    "scrolled": true
   },
   "outputs": [],
   "source": [
    "#Year vs electric production\n",
    "plt.figure(figsize=(10,8))\n",
    "df.groupby(\"Year\")[\"IPG2211A2N\"].mean().plot(kind=\"bar\")\n",
    "#2018 extremely high"
   ]
  },
  {
   "cell_type": "code",
   "execution_count": null,
   "metadata": {},
   "outputs": [],
   "source": [
    "#month vs electric production\n",
    "plt.figure(figsize=(10,8))\n",
    "df.groupby(\"Month\")[\"IPG2211A2N\"].mean().plot(kind=\"bar\")\n",
    "#no noticeable trend"
   ]
  },
  {
   "cell_type": "code",
   "execution_count": null,
   "metadata": {},
   "outputs": [],
   "source": [
    "#week number vs electric production\n",
    "plt.figure(figsize=(10,8))\n",
    "df.groupby(\"Week\")[\"IPG2211A2N\"].mean().plot(kind=\"bar\")\n",
    "#Production is stable across weeks"
   ]
  },
  {
   "cell_type": "code",
   "execution_count": null,
   "metadata": {},
   "outputs": [],
   "source": [
    "#day of week vs electric production\n",
    "plt.figure(figsize=(10,8))\n",
    "df.groupby(\"Day of week\")[\"IPG2211A2N\"].mean().plot(kind=\"bar\")\n",
    "#Production is stable across the days"
   ]
  },
  {
   "cell_type": "code",
   "execution_count": null,
   "metadata": {},
   "outputs": [],
   "source": [
    "#Weekend vs electric production\n",
    "plt.figure(figsize=(10,8))\n",
    "df.groupby(\"Weekend\")[\"IPG2211A2N\"].mean().plot(kind=\"bar\")\n",
    "#Production is stable regardless of weekday or weekend"
   ]
  },
  {
   "cell_type": "code",
   "execution_count": null,
   "metadata": {},
   "outputs": [],
   "source": [
    "df.groupby([\"Year\", \"Month\"])[\"IPG2211A2N\"].mean().plot(kind=\"bar\")"
   ]
  },
  {
   "cell_type": "code",
   "execution_count": null,
   "metadata": {},
   "outputs": [],
   "source": [
    "month=df.resample(\"M\").mean()\n",
    "day=df.resample(\"D\").mean()\n",
    "year=df.resample(\"A\").mean()\n",
    "week=df.resample(\"W\").mean()\n",
    "newday=pd.DataFrame(day)\n",
    "newday=newday.dropna()\n",
    "newweek=pd.DataFrame(week)\n",
    "newweek=newweek.dropna()\n",
    "fig,ax=plt.subplots(4,1)\n",
    "month.IPG2211A2N.plot(fontsize=14, title=\"Monthly\", ax=ax[0])\n",
    "newday.IPG2211A2N.plot(fontsize=14, title=\"Daily\", ax=ax[1])\n",
    "year.IPG2211A2N.plot(fontsize=14, title=\"Yearly\", ax=ax[2])\n",
    "newweek.IPG2211A2N.plot(fontsize=14, title=\"Weekly\", ax=ax[3])\n",
    "plt.ylabel(\"Electric Production\")"
   ]
  },
  {
   "cell_type": "code",
   "execution_count": null,
   "metadata": {
    "scrolled": true
   },
   "outputs": [],
   "source": [
    "#resample month--month plot has least amount of noise\n",
    "df.Timestamp=pd.to_datetime(df.DATE)\n",
    "df.index=df.Timestamp\n",
    "df=df.resample(\"M\").mean()"
   ]
  },
  {
   "cell_type": "code",
   "execution_count": null,
   "metadata": {},
   "outputs": [],
   "source": [
    "print(len(df.index)*0.7)\n",
    "df.head()\n",
    "df[df.index.day==31]"
   ]
  },
  {
   "cell_type": "code",
   "execution_count": null,
   "metadata": {},
   "outputs": [],
   "source": [
    "#resample months\n",
    "train=df.loc[\"1985-01-01\":\"2008-01-01\"]\n",
    "valid=df.loc[\"2008-01-01\":]\n",
    "train.IPG2211A2N.plot(figsize=(15,8), fontsize=14, label=\"train\")\n",
    "valid.IPG2211A2N.plot(figsize=(15,8), fontsize=14, label=\"Valid\")\n",
    "plt.xlabel(\"Date\")\n",
    "plt.ylabel(\"Electric production\")\n",
    "plt.legend(loc=\"best\")"
   ]
  },
  {
   "cell_type": "code",
   "execution_count": null,
   "metadata": {},
   "outputs": [],
   "source": [
    "#1. Naive approach\n",
    "arr=np.asarray(train.IPG2211A2N)\n",
    "y_hat=valid.copy()\n",
    "y_hat[\"naive\"]=arr[len(arr)-1]\n",
    "#resample months\n",
    "train=df.loc[\"1985-01-01\":\"2008-01-01\"]\n",
    "valid=df.loc[\"2008-01-01\":]\n",
    "train.IPG2211A2N.plot(figsize=(15,8), fontsize=14, label=\"train\")\n",
    "valid.IPG2211A2N.plot(figsize=(15,8), fontsize=14, label=\"Valid\")\n",
    "y_hat['naive'].plot()\n",
    "plt.xlabel(\"Date\")\n",
    "plt.ylabel(\"Electric production\")\n",
    "plt.legend(loc=\"best\")"
   ]
  },
  {
   "cell_type": "code",
   "execution_count": null,
   "metadata": {},
   "outputs": [],
   "source": [
    "rmse=np.sqrt(mean_squared_error(valid.IPG2211A2N, y_hat[\"naive\"]))\n",
    "rmse"
   ]
  },
  {
   "cell_type": "code",
   "execution_count": null,
   "metadata": {},
   "outputs": [],
   "source": [
    "#2. Simple Average\n",
    "y_hat=valid.copy()\n",
    "y_hat['simple average']=(train.IPG2211A2N).mean()\n",
    "train.IPG2211A2N.plot(figsize=(15,8), fontsize=14, label=\"train\")\n",
    "valid.IPG2211A2N.plot(figsize=(15,8), fontsize=14, label=\"Valid\")\n",
    "y_hat[\"simple average\"].plot(figsize=(15,8), fontsize=14, label=\"simple average\")\n",
    "plt.xlabel(\"Date\")\n",
    "plt.ylabel(\"Electric production\")\n",
    "plt.legend(loc=\"best\")"
   ]
  },
  {
   "cell_type": "code",
   "execution_count": null,
   "metadata": {},
   "outputs": [],
   "source": [
    "rmse=np.sqrt(mean_squared_error(valid.IPG2211A2N, y_hat[\"simple average\"]))\n",
    "rmse"
   ]
  },
  {
   "cell_type": "code",
   "execution_count": null,
   "metadata": {},
   "outputs": [],
   "source": [
    "#3. Moving average\n",
    "y_hat=valid.copy()\n",
    "y_hat[\"moving average forecast\"]=train.IPG2211A2N.rolling(10).mean().iloc[-1]\n",
    "train.IPG2211A2N.plot(figsize=(15,8), fontsize=14, label=\"train\")\n",
    "valid.IPG2211A2N.plot(figsize=(15,8), fontsize=14, label=\"Valid\")\n",
    "y_hat[\"moving average forecast\"].plot(figsize=(15,8), fontsize=14, label=\"moving average with last 10 values\")\n",
    "plt.xlabel(\"Date\")\n",
    "plt.ylabel(\"Electric production\")\n",
    "plt.legend(loc=\"best\")\n",
    "#print(y_hat[\"moving average forecast\"])"
   ]
  },
  {
   "cell_type": "code",
   "execution_count": null,
   "metadata": {},
   "outputs": [],
   "source": [
    "rmse=np.sqrt(mean_squared_error(valid.IPG2211A2N, y_hat[\"moving average forecast\"]))\n",
    "rmse"
   ]
  },
  {
   "cell_type": "code",
   "execution_count": null,
   "metadata": {},
   "outputs": [],
   "source": [
    "#3. Moving average\n",
    "y_hat=valid.copy()\n",
    "y_hat[\"moving average forecast\"]=train.IPG2211A2N.rolling(20).mean().iloc[-1]\n",
    "train.IPG2211A2N.plot(figsize=(15,8), fontsize=14, label=\"train\")\n",
    "valid.IPG2211A2N.plot(figsize=(15,8), fontsize=14, label=\"Valid\")\n",
    "y_hat[\"moving average forecast\"].plot(figsize=(15,8), fontsize=14, label=\"moving average with last 20 values\")\n",
    "plt.xlabel(\"Date\")\n",
    "plt.ylabel(\"Electric production\")\n",
    "plt.legend(loc=\"best\")\n",
    "#print(y_hat[\"moving average forecast\"])"
   ]
  },
  {
   "cell_type": "code",
   "execution_count": null,
   "metadata": {},
   "outputs": [],
   "source": [
    "rmse=np.sqrt(mean_squared_error(valid.IPG2211A2N, y_hat[\"moving average forecast\"]))\n",
    "rmse"
   ]
  },
  {
   "cell_type": "code",
   "execution_count": null,
   "metadata": {},
   "outputs": [],
   "source": [
    "#3. Moving average\n",
    "y_hat=valid.copy()\n",
    "y_hat[\"moving average forecast\"]=train.IPG2211A2N.rolling(30).mean().iloc[-1]\n",
    "train.IPG2211A2N.plot(figsize=(15,8), fontsize=14, label=\"train\")\n",
    "valid.IPG2211A2N.plot(figsize=(15,8), fontsize=14, label=\"Valid\")\n",
    "y_hat[\"moving average forecast\"].plot(figsize=(15,8), fontsize=14, label=\"moving average with last 30 values\")\n",
    "plt.xlabel(\"Date\")\n",
    "plt.ylabel(\"Electric production\")\n",
    "plt.legend(loc=\"best\")\n",
    "#print(y_hat[\"moving average forecast\"])"
   ]
  },
  {
   "cell_type": "code",
   "execution_count": null,
   "metadata": {},
   "outputs": [],
   "source": [
    "rmse=np.sqrt(mean_squared_error(valid.IPG2211A2N, y_hat[\"moving average forecast\"]))\n",
    "rmse"
   ]
  },
  {
   "cell_type": "code",
   "execution_count": null,
   "metadata": {},
   "outputs": [],
   "source": [
    "#Moving average forecast works best for 20 values when it comes to this particular dataset."
   ]
  },
  {
   "cell_type": "code",
   "execution_count": null,
   "metadata": {},
   "outputs": [],
   "source": [
    "#4. Simple Exponential Smoothing\n",
    "from statsmodels.tsa.api import SimpleExpSmoothing\n",
    "y_hat=valid.copy()\n",
    "fit=SimpleExpSmoothing(np.asarray(train.IPG2211A2N)).fit(smoothing_level=0.3, optimized=False)\n",
    "y_hat[\"SES\"]=fit.forecast(len(valid))\n",
    "train.IPG2211A2N.plot(figsize=(15,8), fontsize=14, label=\"train\")\n",
    "valid.IPG2211A2N.plot(figsize=(15,8), fontsize=14, label=\"Valid\")\n",
    "y_hat[\"SES\"].plot(figsize=(15,8), fontsize=14, label=\"Simple Exp Smoothing\")\n",
    "plt.xlabel(\"Date\")\n",
    "plt.ylabel(\"Electric production\")\n",
    "plt.legend(loc=\"best\")"
   ]
  },
  {
   "cell_type": "code",
   "execution_count": null,
   "metadata": {},
   "outputs": [],
   "source": [
    "rmse=np.sqrt(mean_squared_error(valid.IPG2211A2N, y_hat[\"SES\"]))\n",
    "rmse"
   ]
  },
  {
   "cell_type": "code",
   "execution_count": null,
   "metadata": {},
   "outputs": [],
   "source": [
    "#5. Holt's Linear Model\n",
    "#First, decompose the time series\n",
    "import statsmodels.api as sm\n",
    "sm.tsa.seasonal_decompose(train.IPG2211A2N).plot()\n",
    "result=sm.tsa.stattools.adfuller(train.IPG2211A2N)\n",
    "plt.show()"
   ]
  },
  {
   "cell_type": "code",
   "execution_count": null,
   "metadata": {},
   "outputs": [],
   "source": [
    "from statsmodels.tsa.holtwinters import Holt\n",
    "y_hat=valid.copy()\n",
    "fit1=Holt(np.asarray(train.IPG2211A2N)).fit(smoothing_level=0.01, smoothing_slope=0.01)\n",
    "y_hat[\"Holt's Linear Model\"]=fit1.forecast(len(valid))\n",
    "train.IPG2211A2N.plot(figsize=(15,8), fontsize=14, label=\"train\")\n",
    "valid.IPG2211A2N.plot(figsize=(15,8), fontsize=14, label=\"Valid\")\n",
    "y_hat[\"Holt's Linear Model\"].plot(figsize=(15,8), fontsize=14, label=\"Holt's Linear Model\")\n",
    "plt.xlabel(\"Date\")\n",
    "plt.ylabel(\"Electric production\")\n",
    "plt.legend(loc=\"best\")"
   ]
  },
  {
   "cell_type": "code",
   "execution_count": null,
   "metadata": {},
   "outputs": [],
   "source": [
    "rmse=np.sqrt(mean_squared_error(valid.IPG2211A2N, y_hat[\"Holt's Linear Model\"]))\n",
    "rmse"
   ]
  },
  {
   "cell_type": "code",
   "execution_count": null,
   "metadata": {},
   "outputs": [],
   "source": [
    "#6. Holt's Winter Method\n",
    "from statsmodels.tsa.holtwinters import ExponentialSmoothing\n",
    "y_hat=valid.copy()\n",
    "fit2=ExponentialSmoothing(np.asarray(train.IPG2211A2N), trend=\"add\", seasonal=\"add\", seasonal_periods=12).fit()\n",
    "y_hat[\"Holt Winter\"]=fit2.forecast(len(valid))\n",
    "train.IPG2211A2N.plot(figsize=(15,8), fontsize=14, label=\"train\")\n",
    "valid.IPG2211A2N.plot(figsize=(15,8), fontsize=14, label=\"Valid\")\n",
    "y_hat[\"Holt Winter\"].plot(figsize=(15,8), fontsize=14, label=\"Holt Winter\")\n",
    "plt.xlabel(\"Date\")\n",
    "plt.ylabel(\"Electric production\")\n",
    "plt.legend(loc=\"best\")"
   ]
  },
  {
   "cell_type": "code",
   "execution_count": null,
   "metadata": {},
   "outputs": [],
   "source": [
    "rmse=np.sqrt(mean_squared_error(valid.IPG2211A2N, y_hat[\"Holt Winter\"]))\n",
    "rmse"
   ]
  },
  {
   "cell_type": "code",
   "execution_count": null,
   "metadata": {},
   "outputs": [],
   "source": [
    "#Dickey fuller test to test for stationaritty\n",
    "#Function\n",
    "#Steps\n",
    "#1. find rolling mean and std\n",
    "#2. Plot them\n",
    "#3. convert timeseries to a Series(pd.Series) then call function\n",
    "from statsmodels.tsa.api import adfuller\n",
    "\n",
    "def test_stationarity(timeseries):\n",
    "    roll_mean=timeseries.rolling(12).mean()  #last 12 values because 12 months in a year\n",
    "    roll_std=timeseries.rolling(12).std()\n",
    "    \n",
    "    rollmean=plt.plot(roll_mean, label=\"Rolling mean\")\n",
    "    rollstd=plt.plot(roll_std, label=\"Rolling std\")\n",
    "    original=plt.plot(timeseries, label=\"Original\")\n",
    "    \n",
    "    plt.legend(loc=\"best\")\n",
    "    \n",
    "    print(\"Results of Dickey Fuller test\")\n",
    "    dftest=adfuller(timeseries, autolag=\"AIC\")\n",
    "    new_series=pd.Series(dftest[0:4], index=[\"Test stat\", \"P-Value\", \"# of Lags\", \"# of Obs\"])\n",
    "    for key, val in dftest[4].items():\n",
    "        new_series[\"Critical values %s\" %key]=val\n",
    "    print(new_series)\n",
    "    \n",
    "test_stationarity(train.IPG2211A2N)\n",
    "#Test statistic not less than critical values, so we need to eliminate trend and seasonality"
   ]
  },
  {
   "cell_type": "code",
   "execution_count": null,
   "metadata": {},
   "outputs": [],
   "source": [
    "#Methods to deal with trend--taking the log of the original(then graph), taking the moving average, and then subtracting the two.\n",
    "#Then check test stat again\n",
    "train_log=np.log(train.IPG2211A2N)\n",
    "valid_log=np.log(valid.IPG2211A2N)\n",
    "moving_avg=train_log.rolling(12).mean()\n",
    "plt.plot(train_log, label=\"\")\n",
    "plt.plot(moving_avg)"
   ]
  },
  {
   "cell_type": "code",
   "execution_count": null,
   "metadata": {},
   "outputs": [],
   "source": [
    "log_diff=train_log-moving_avg\n",
    "log_diff=log_diff.dropna()\n",
    "test_stationarity(log_diff)"
   ]
  },
  {
   "cell_type": "code",
   "execution_count": null,
   "metadata": {},
   "outputs": [],
   "source": [
    "#taking care of both trend and seasonality\n",
    "new_train_log=train_log-train_log.shift(1)\n",
    "new_train_log.dropna(inplace=True)\n",
    "test_stationarity(new_train_log)"
   ]
  },
  {
   "cell_type": "code",
   "execution_count": null,
   "metadata": {},
   "outputs": [],
   "source": [
    "from statsmodels.tsa.api import seasonal_decompose\n",
    "decompose=seasonal_decompose(train_log, freq=12)\n",
    "residual=decompose.resid\n",
    "seasonal=decompose.seasonal\n",
    "trend=decompose.trend\n",
    "plt.figure(figsize=(15,8))\n",
    "plt.subplot(411)\n",
    "plt.plot(train_log, label=\"Original\")\n",
    "plt.legend(loc=\"best\")\n",
    "plt.subplot(412)\n",
    "plt.plot(trend, label=\"Trend\")\n",
    "plt.legend(loc=\"best\")\n",
    "plt.subplot(413)\n",
    "plt.plot(seasonal, label=\"Seasonal\")\n",
    "plt.legend(loc=\"best\")\n",
    "plt.subplot(414)\n",
    "plt.plot(residual, label=\"Residual\")\n",
    "plt.legend(loc=\"best\")"
   ]
  },
  {
   "cell_type": "code",
   "execution_count": null,
   "metadata": {},
   "outputs": [],
   "source": [
    "#decompose residual's trend and stationarity\n",
    "train_log_decompose = residual\n",
    "train_log_decompose.dropna(inplace=True)\n",
    "test_stationarity(train_log_decompose)"
   ]
  },
  {
   "cell_type": "code",
   "execution_count": null,
   "metadata": {},
   "outputs": [],
   "source": [
    "#Plot ACF, PACF\n",
    "from statsmodels.tsa.stattools import acf, pacf #plotted after differencing\n",
    "lag_acf=acf(new_train_log, nlags=25)\n",
    "lag_pacf=pacf(new_train_log, nlags=25, method=\"ols\")\n",
    "#plotting\n",
    "plt.plot(lag_acf)\n",
    "plt.axhline(y=0, linestyle=\"--\", color=\"grey\")\n",
    "plt.axhline(y=1.96*(1/np.sqrt(len(valid))), linestyle=\"--\", color=\"grey\")\n",
    "plt.axhline(y=-1.96*(1/np.sqrt(len(valid))), linestyle=\"--\", color=\"grey\")\n",
    "plt.title(\"Autocorrelation Function\")\n",
    "plt.show()\n",
    "plt.plot(lag_pacf)\n",
    "plt.axhline(y=0, linestyle=\"--\", color=\"grey\")\n",
    "plt.axhline(y=1.96*(1/np.sqrt(len(valid))), linestyle=\"--\", color=\"grey\")\n",
    "plt.axhline(y=-1.96*(1/np.sqrt(len(valid))), linestyle=\"--\", color=\"grey\")\n",
    "plt.title(\"Partial Autocorrelation Function\")\n",
    "plt.show()"
   ]
  },
  {
   "cell_type": "code",
   "execution_count": null,
   "metadata": {},
   "outputs": [],
   "source": [
    "#ARIMA model\n",
    "#AR model\n",
    "from statsmodels.tsa.arima_model import ARIMA\n",
    "model=ARIMA(train_log, order=(2,1,0))\n",
    "results_AR=model.fit(disp=-1)\n",
    "plt.plot(new_train_log, label=\"Graph post differencing\")\n",
    "plt.plot(results_AR.fittedvalues, label=\"Prediction using AR model\")\n",
    "plt.legend(loc=\"best\")\n",
    "#print(\"RMSE: %.4f\" %(np.sqrt(sum(results_AR.fittedvalues-train_log))/(len(train_log))))\n",
    "#print(new_train_log)"
   ]
  },
  {
   "cell_type": "code",
   "execution_count": null,
   "metadata": {},
   "outputs": [],
   "source": [
    "#MA model\n",
    "from statsmodels.tsa.arima_model import ARIMA\n",
    "model=ARIMA(train_log, order=(0,1,3))\n",
    "results_MA=model.fit(disp=-1)\n",
    "plt.plot(new_train_log, label=\"Graph post differencing\")\n",
    "plt.plot(results_MA.fittedvalues, label=\"Prediction using MA mode\")\n",
    "plt.legend(loc=\"best\")"
   ]
  },
  {
   "cell_type": "code",
   "execution_count": null,
   "metadata": {},
   "outputs": [],
   "source": [
    "#Combined model\n",
    "from statsmodels.tsa.arima_model import ARIMA\n",
    "model=ARIMA(train_log, order=(2,1,3))\n",
    "results_combined=model.fit(disp=-1)\n",
    "plt.plot(new_train_log, label=\"Graph post differencing\")\n",
    "plt.plot(results_combined.fittedvalues, label=\"Combining AR and MA graphs\")\n",
    "plt.legend(loc=\"best\")"
   ]
  },
  {
   "cell_type": "code",
   "execution_count": null,
   "metadata": {},
   "outputs": [],
   "source": [
    "#Bring it back to original scale\n",
    "#Steps\n",
    "#1.converting to a series(results_combined)\n",
    "#2. take the cumsum()\n",
    "#3. put the cumsum values into another series, and begin with the 0th index\n",
    "#4. add cumsum() to the series\n",
    "#5. take exp\n",
    "predictions_diff=pd.Series(results_combined.fittedvalues)\n",
    "#print(predictions_diff)\n",
    "predictions_diff_cumsum=predictions_diff.cumsum()\n",
    "combined_model=pd.Series(train_log.iloc[0], index=train_log.index)\n",
    "combined_model=combined_model.add(predictions_diff_cumsum, fill_value=0)\n",
    "exp_model=np.exp(combined_model)\n",
    "plt.plot\n",
    "plt.plot(exp_model, label=\"Predictions\")\n",
    "plt.plot(train.IPG2211A2N, label=\"Train\")\n",
    "#plt.plot(valid.IPG2211A2N, label=\"Valid\")\n",
    "plt.title(\"RMSE: %.4f\" %(np.sqrt(sum((combined_model-train_log)**2))/(len(train_log))))\n",
    "plt.legend(loc=\"best\")"
   ]
  },
  {
   "cell_type": "code",
   "execution_count": null,
   "metadata": {},
   "outputs": [],
   "source": [
    "#7. Using Sarimax(seasonal ARIMA)\n",
    "y_hat=valid.copy()\n",
    "from statsmodels.tsa.statespace.sarimax import SARIMAX\n",
    "model=SARIMAX(train.IPG2211A2N, seasonal_order=(0,1,1,12), order=(1,1,4)).fit()\n",
    "y_hat[\"SARIMAX\"]=model.forecast(len(valid))\n",
    "plt.figure(figsize=(15,8))\n",
    "plt.plot(y_hat[\"SARIMAX\"], label=\"SARIMAX\")\n",
    "plt.plot(train.IPG2211A2N, label=\"Train\")\n",
    "plt.plot(valid.IPG2211A2N, label=\"Valid\")\n",
    "#plt.figure(figsize=(15,8))\n",
    "plt.legend(loc=\"best\")"
   ]
  },
  {
   "cell_type": "code",
   "execution_count": null,
   "metadata": {},
   "outputs": [],
   "source": [
    "rmse=np.sqrt(mean_squared_error(y_hat[\"SARIMAX\"], valid.IPG2211A2N))\n",
    "rmse"
   ]
  }
 ],
 "metadata": {
  "kernelspec": {
   "display_name": "Python 3 (ipykernel)",
   "language": "python",
   "name": "python3"
  },
  "language_info": {
   "codemirror_mode": {
    "name": "ipython",
    "version": 3
   },
   "file_extension": ".py",
   "mimetype": "text/x-python",
   "name": "python",
   "nbconvert_exporter": "python",
   "pygments_lexer": "ipython3",
   "version": "3.12.0"
  }
 },
 "nbformat": 4,
 "nbformat_minor": 4
}
